{
 "cells": [
  {
   "cell_type": "code",
   "execution_count": 1,
   "metadata": {},
   "outputs": [],
   "source": [
    "import matplotlib.pyplot as plt\n",
    "from matplotlib.pyplot import Axes\n",
    "from matplotlib.pyplot import Figure"
   ]
  },
  {
   "cell_type": "code",
   "execution_count": null,
   "metadata": {},
   "outputs": [],
   "source": [
    "alphas: list[float] = [\n",
    "    0.02, 0.04, 0.06, 0.08, 0.10, 0.12\n",
    "]\n",
    "rhos: list[float] = [\n",
    "]\n",
    "rho_stds: list[float] = [\n",
    "\n",
    "]\n",
    "plt.rcParams[\"font.size\"] = 20\n",
    "fig: Figure = plt.figure(figsize=(20,9), dpi=50, facecolor=\"w\")\n",
    "ax1: Axes = fig.add_subplot(1,1,1)\n",
    "ax1.errorbar(\n",
    "    alphas, rhos, yerr=rho_stds, capsize=5, fmt=\"o\",\n",
    "    markersize=10, color=\"black\", ecolor=\"black\", label=\"abs\"\n",
    ")\n",
    "#ax1.hlines(4.42697, -0.1, 1.9, linestyles=\"dotted\", color=\"black\", label=r\"abs ($\\lambda^c=0$)\")\n",
    "#ax1.hlines(3.08580, -0.1, 1.9, color=\"black\", label=\"abs (real)\")\n",
    "ax1.legend(fontsize=20)\n",
    "ax1.set_xlim([0.00, 0.14])\n",
    "ax1.set_ylim([-1.0, 1.0])\n",
    "ax1.set_xticks(alphas)\n",
    "ax1.set_xlabel(r\"reference level of risk aversion term $\\alpha$ of agents w/ volatility feedback\", fontsize=20)\n",
    "ax1.set_ylabel(r\"average asymmetry parameter $\\bar{\\rho}$ of volatility\", fontsize=20)"
   ]
  },
  {
   "cell_type": "code",
   "execution_count": null,
   "metadata": {},
   "outputs": [],
   "source": [
    "a_fs: list[float] = [\n",
    "    1.0, 2.0, 3.0, 4.0, 5.0, 6.0\n",
    "]\n",
    "rhos: list[float] = [\n",
    "]\n",
    "rho_stds: list[float] = [\n",
    "\n",
    "]\n",
    "plt.rcParams[\"font.size\"] = 20\n",
    "fig: Figure = plt.figure(figsize=(20,9), dpi=50, facecolor=\"w\")\n",
    "ax1: Axes = fig.add_subplot(1,1,1)\n",
    "ax1.errorbar(\n",
    "    a_fs, rhos, yerr=rho_stds, capsize=5, fmt=\"o\",\n",
    "    markersize=10, color=\"black\", ecolor=\"black\", label=\"abs\"\n",
    ")\n",
    "#ax1.hlines(4.42697, -0.1, 1.9, linestyles=\"dotted\", color=\"black\", label=r\"abs ($\\lambda^c=0$)\")\n",
    "#ax1.hlines(3.08580, -0.1, 1.9, color=\"black\", label=\"abs (real)\")\n",
    "ax1.legend(fontsize=20)\n",
    "ax1.set_xlim([0.5, 6.5])\n",
    "ax1.set_ylim([-1.0, 1.0])\n",
    "ax1.set_xticks(a_fs)\n",
    "ax1.set_xlabel(r\"asymmetry parameter of positive feedback trader component $a_f$\", fontsize=20)\n",
    "ax1.set_ylabel(r\"average asymmetry parameter $\\bar{\\rho}$ of volatility\", fontsize=20)"
   ]
  },
  {
   "cell_type": "code",
   "execution_count": 13,
   "metadata": {},
   "outputs": [
    {
     "data": {
      "text/plain": [
       "(-0.1929, 0.05762999999999999)"
      ]
     },
     "execution_count": 13,
     "metadata": {},
     "output_type": "execute_result"
    }
   ],
   "source": [
    "import numpy as np\n",
    "l = np.array([-0.25053, -0.13527])\n",
    "np.mean(l), np.std(l)"
   ]
  },
  {
   "cell_type": "code",
   "execution_count": null,
   "metadata": {},
   "outputs": [],
   "source": []
  }
 ],
 "metadata": {
  "kernelspec": {
   "display_name": ".venv",
   "language": "python",
   "name": "python3"
  },
  "language_info": {
   "codemirror_mode": {
    "name": "ipython",
    "version": 3
   },
   "file_extension": ".py",
   "mimetype": "text/x-python",
   "name": "python",
   "nbconvert_exporter": "python",
   "pygments_lexer": "ipython3",
   "version": "3.11.5"
  }
 },
 "nbformat": 4,
 "nbformat_minor": 2
}
