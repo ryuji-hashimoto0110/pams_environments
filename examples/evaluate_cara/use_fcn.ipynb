{
 "cells": [
  {
   "cell_type": "code",
   "execution_count": 2,
   "metadata": {},
   "outputs": [],
   "source": [
    "import pathlib\n",
    "from pathlib import Path\n",
    "import sys\n",
    "curr_path: Path = pathlib.Path(\".\").resolve()\n",
    "root_path: Path = curr_path.parents[1]\n",
    "config_path: Path = root_path / \"examples\" / \"evaluate_cara\" / \"fcn_config.json\"\n",
    "config_wo_cara_path: Path = root_path / \"examples\" / \"evaluate_cara\" / \"fcn_wo_cara_config.json\"\n",
    "imgs_path: Path = root_path / \"imgs\"\n",
    "sys.path.append(str(root_path))\n",
    "from envs.agents import aFCNAgent\n",
    "import matplotlib.pyplot as plt\n",
    "from matplotlib.pyplot import Axes\n",
    "from logs import VolumePriceSaver\n",
    "from pams.runners.sequential import SequentialRunner\n",
    "import random\n",
    "from typing import Optional\n",
    "import warnings\n",
    "warnings.simplefilter(\"ignore\")"
   ]
  },
  {
   "cell_type": "markdown",
   "metadata": {},
   "source": [
    "### FCN w/o CARA utility"
   ]
  },
  {
   "cell_type": "code",
   "execution_count": 2,
   "metadata": {},
   "outputs": [
    {
     "name": "stderr",
     "output_type": "stream",
     "text": [
      "/Users/ryujihashimoto/Desktop/pamsenvs/.venv/lib/python3.11/site-packages/pams/market.py:746: UserWarning: order price does not accord to the tick size. price will be modified\n",
      "  warnings.warn(\n"
     ]
    },
    {
     "name": "stdout",
     "output_type": "stream",
     "text": [
      "# INITIALIZATION TIME 0.276954\n",
      "# EXECUTION TIME 34.018992\n"
     ]
    }
   ],
   "source": [
    "datas_wo_cara_path: Path = root_path / \"datas\" / \"artificial_datas\" / \"fcn_wo_cara\"\n",
    "saver_wo_cara = VolumePriceSaver()\n",
    "runner_wo_cara = SequentialRunner(\n",
    "    settings=config_wo_cara_path,\n",
    "    prng=random.Random(42),\n",
    "    logger=saver_wo_cara,\n",
    ")\n",
    "runner_wo_cara.main()"
   ]
  },
  {
   "cell_type": "code",
   "execution_count": 6,
   "metadata": {},
   "outputs": [],
   "source": [
    "plt.rcParams[\"font.size\"] = 30\n",
    "fig = plt.figure(figsize=(40,20), dpi=50, facecolor=\"w\")\n",
    "ax: Axes = fig.add_subplot(1,1,1)\n",
    "saver_wo_cara.plot_volume_prices(ax, 0, [100,20000])\n",
    "img_path: Path = imgs_path / \"fcn_wo_cara_price_series.pdf\"\n",
    "plt.savefig(str(img_path))\n",
    "plt.close(fig)"
   ]
  },
  {
   "cell_type": "code",
   "execution_count": 4,
   "metadata": {},
   "outputs": [],
   "source": [
    "datas_path: Path = root_path / \"datas\" / \"artificial_datas\" / \"fcn_wo_cara\"\n",
    "save_path: Path = datas_path / \"0.csv\"\n",
    "saver_wo_cara.save_olhcv(0, 100, 10, save_path)"
   ]
  },
  {
   "cell_type": "markdown",
   "metadata": {},
   "source": [
    "## FCN"
   ]
  },
  {
   "cell_type": "code",
   "execution_count": 5,
   "metadata": {},
   "outputs": [
    {
     "name": "stderr",
     "output_type": "stream",
     "text": [
      "/Users/ryujihashimoto/Desktop/pamsenvs/.venv/lib/python3.11/site-packages/pams/market.py:746: UserWarning: order price does not accord to the tick size. price will be modified\n",
      "  warnings.warn(\n"
     ]
    },
    {
     "name": "stdout",
     "output_type": "stream",
     "text": [
      "# INITIALIZATION TIME 0.374403\n",
      "# EXECUTION TIME 40.798583\n"
     ]
    }
   ],
   "source": [
    "saver = VolumePriceSaver()\n",
    "runner = SequentialRunner(\n",
    "    settings=config_path,\n",
    "    prng=random.Random(42),\n",
    "    logger=saver,\n",
    ")\n",
    "runner.class_register(aFCNAgent)\n",
    "runner.main()"
   ]
  },
  {
   "cell_type": "code",
   "execution_count": 6,
   "metadata": {},
   "outputs": [],
   "source": [
    "plt.rcParams[\"font.size\"] = 30\n",
    "fig = plt.figure(figsize=(40,20), dpi=50, facecolor=\"w\")\n",
    "ax: Axes = fig.add_subplot(1,1,1)\n",
    "saver.plot_volume_prices(ax, 0, [100,20000])\n",
    "img_path: Path = imgs_path / \"fcn_price_series.pdf\"\n",
    "plt.savefig(str(img_path))\n",
    "plt.close(fig)"
   ]
  },
  {
   "cell_type": "code",
   "execution_count": 7,
   "metadata": {},
   "outputs": [],
   "source": [
    "fig = plt.figure(figsize=(20,20), dpi=50, facecolor=\"w\")\n",
    "ax1: Axes = fig.add_subplot(2,1,1)\n",
    "saver.plot_return_time_series(\n",
    "    ax1, market_id=0, calc_return_interval=10\n",
    ")\n",
    "ax1.set_title(f\"log return (lag 10)\")\n",
    "ax2: Axes = fig.add_subplot(2,1,2)\n",
    "saver.plot_return_histgram(\n",
    "    ax2, market_id=0, bin_num=30, calc_return_interval=10\n",
    ")\n",
    "ax2.set_title(f\"log return histgram (lag 10)\")\n",
    "img_path: Path = imgs_path / \"fcn_log_return.pdf\"\n",
    "plt.savefig(str(img_path))\n",
    "plt.close(fig)"
   ]
  },
  {
   "cell_type": "code",
   "execution_count": 8,
   "metadata": {},
   "outputs": [],
   "source": [
    "datas_path: Path = root_path / \"datas\" / \"artificial_datas\" / \"fcn\"\n",
    "save_path: Path = datas_path / \"0.csv\"\n",
    "saver.save_olhcv(0, 100, 10, save_path)"
   ]
  }
 ],
 "metadata": {
  "kernelspec": {
   "display_name": ".venv",
   "language": "python",
   "name": "python3"
  },
  "language_info": {
   "codemirror_mode": {
    "name": "ipython",
    "version": 3
   },
   "file_extension": ".py",
   "mimetype": "text/x-python",
   "name": "python",
   "nbconvert_exporter": "python",
   "pygments_lexer": "ipython3",
   "version": "3.11.5"
  }
 },
 "nbformat": 4,
 "nbformat_minor": 2
}
